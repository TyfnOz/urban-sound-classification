{
 "cells": [
  {
   "cell_type": "code",
   "execution_count": null,
   "metadata": {},
   "outputs": [],
   "source": [
    "from csv import excel\n",
    "import numpy as np\n",
    "import os\n",
    "import os.path\n",
    "import librosa\n",
    "import librosa.display\n",
    "import matplotlib.pyplot as plt\n",
    "import pandas as pd\n",
    "from sklearn.preprocessing import LabelEncoder\n",
    "import cv2\n",
    "from cv2 import IMREAD_GRAYSCALE\n",
    "import tensorflow as tf"
   ]
  },
  {
   "cell_type": "code",
   "execution_count": null,
   "metadata": {},
   "outputs": [],
   "source": [
    "#spektrogramları oluşturan fonksiyon\n",
    "def create_spectrogram(file,sr=None):\n",
    "    window_size = 1024\n",
    "    window = np.hanning(window_size)\n",
    "    sound,sr = librosa.load(file,sr=sr)\n",
    "    spec = librosa.feature.melspectrogram(sound, sr=sr,n_fft= window_size, hop_length=512,window=window)\n",
    "    return librosa.amplitude_to_db(np.abs(spec),ref= np.max)"
   ]
  },
  {
   "cell_type": "code",
   "execution_count": null,
   "metadata": {},
   "outputs": [],
   "source": [
    "#.wav dosyalarının verisini excel dosyasından okuma - class'ların klasörünü oluşturma\n",
    "excel = pd.read_csv(r\"C:\\Users\\User\\Desktop\\sound classification\\UrbanSound8K\\metadata\\UrbanSound8K.csv\")\n",
    "num = excel[\"classID\"].unique().size\n",
    "i=0\n",
    "while i < num:\n",
    "    os.mkdir(f\"{i}\")\n",
    "    i+=1"
   ]
  },
  {
   "cell_type": "code",
   "execution_count": null,
   "metadata": {},
   "outputs": [],
   "source": [
    "#tüm .wav dosyalarının spektrogramlarını (grayscale) oluşturup class'larına göre dosyalara kaydedecek while loop\n",
    "#8732 döngü - 8732 spektrogram\n",
    "a = excel['slice_file_name'].to_numpy()\n",
    "j = 0\n",
    "while j < excel['slice_file_name'].size:\n",
    "    folder = excel['fold'][j]\n",
    "    file_class = excel['classID'][j]\n",
    "    save_path = rf\"C:\\Users\\User\\Desktop\\sound classification\\{file_class}\"\n",
    "    file_path = rf\"C:\\Users\\User\\Desktop\\sound classification\\UrbanSound8K\\audio\\fold{folder}\\{a[j]}\"\n",
    "    img_width = 500\n",
    "    img_height = 374\n",
    "    fig = plt.figure(figsize=(img_width / 100, img_height / 100))\n",
    "    ax = plt.Axes(fig, [0., 0., 1., 1.])\n",
    "    out = create_spectrogram(file_path)\n",
    "    librosa.display.specshow(out, cmap='gray_r', ax=ax)\n",
    "    ax.set_axis_off()\n",
    "    fig.add_axes(ax)\n",
    "    path = os.path.join(save_path,f\"{a[j][:-4]}.png\")\n",
    "    plt.savefig(path, dpi=100)\n",
    "    plt.close()\n",
    "    j+=1"
   ]
  },
  {
   "cell_type": "code",
   "execution_count": null,
   "metadata": {},
   "outputs": [],
   "source": [
    "size = excel[\"slice_file_name\"].size\n",
    "a = excel['slice_file_name'].to_numpy()"
   ]
  },
  {
   "cell_type": "code",
   "execution_count": null,
   "metadata": {},
   "outputs": [],
   "source": [
    "y = excel.loc[:,'class']\n",
    "encoder = LabelEncoder()\n",
    "y = encoder.fit_transform(y) \n",
    "x = np.zeros((8732,),dtype='object')\n",
    "X = np.zeros((374,500),dtype = 'uint8')"
   ]
  },
  {
   "cell_type": "code",
   "execution_count": null,
   "metadata": {},
   "outputs": [],
   "source": [
    "i = 0\n",
    "while i < size:\n",
    "  file_class = excel['classID'][i]\n",
    "  img = cv2.imread(f\"/content/gdrive/MyDrive/{file_class}/{a[i][:-4]}.png\",cv2.IMREAD_GRAYSCALE)\n",
    "  img = np.asarray(img)\n",
    "  tf.expand_dims(img, -1).shape.as_list()\n",
    "  X = np.array(img)\n",
    "  X = cv2.resize(X,(75,100))\n",
    "  x[i] = X\n",
    "  i+=1"
   ]
  },
  {
   "cell_type": "code",
   "execution_count": null,
   "metadata": {},
   "outputs": [],
   "source": [
    "x = x / 255"
   ]
  }
 ],
 "metadata": {
  "kernelspec": {
   "display_name": "Python 3.10.7 64-bit",
   "language": "python",
   "name": "python3"
  },
  "language_info": {
   "name": "python",
   "version": "3.10.7"
  },
  "orig_nbformat": 4,
  "vscode": {
   "interpreter": {
    "hash": "afb734500600fd355917ca529030176ea0ca205570884b88f2f6f7d791fd3fbe"
   }
  }
 },
 "nbformat": 4,
 "nbformat_minor": 2
}
