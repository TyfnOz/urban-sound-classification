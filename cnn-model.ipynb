{
  "cells": [
    {
      "cell_type": "code",
      "execution_count": null,
      "metadata": {
        "colab": {
          "base_uri": "https://localhost:8080/"
        },
        "id": "Judk2emongXt",
        "outputId": "8592455f-f088-420a-a1c6-648172d2a9d8"
      },
      "outputs": [
        {
          "name": "stdout",
          "output_type": "stream",
          "text": [
            "Mounted at /content/gdrive\n"
          ]
        }
      ],
      "source": [
        "from google.colab import drive\n",
        "drive.mount('/content/gdrive')"
      ]
    },
    {
      "cell_type": "code",
      "execution_count": null,
      "metadata": {
        "id": "waygOThb4YYf"
      },
      "outputs": [],
      "source": [
        "import numpy as np\n",
        "import tensorflow as tf\n",
        "import matplotlib.pyplot as plt\n",
        "import import_ipynb\n",
        "import preprocess"
      ]
    },
    {
      "cell_type": "code",
      "execution_count": null,
      "metadata": {
        "id": "GNlZwwIZB1bH"
      },
      "outputs": [],
      "source": [
        "from sklearn.model_selection import train_test_split\n",
        "x_train,x_temp,y_train,y_temp = train_test_split(x,y,train_size=0.75)\n",
        "x_val,x_test,y_val,y_test = train_test_split(x,y,train_size=0.6)"
      ]
    },
    {
      "cell_type": "code",
      "execution_count": null,
      "metadata": {
        "id": "-4vNhUdzB7IR"
      },
      "outputs": [],
      "source": [
        "x_train = np.array([np.array(val) for val in x_train])\n",
        "x_test = np.array([np.array(val) for val in x_test])\n",
        "x_val = np.array([np.array(val) for val in x_val])"
      ]
    },
    {
      "cell_type": "code",
      "execution_count": null,
      "metadata": {
        "id": "3Gk7fCSrndmP"
      },
      "outputs": [],
      "source": [
        "model = tf.keras.Sequential()"
      ]
    },
    {
      "cell_type": "code",
      "execution_count": null,
      "metadata": {
        "id": "pk8oQ1XsndmQ"
      },
      "outputs": [],
      "source": [
        "model.add(tf.keras.layers.Conv2D(32,\n",
        "                                kernel_size = (3,3),\n",
        "                                padding = \"same\",\n",
        "                                strides = (1,1),\n",
        "                                input_shape = (100,75,1)))\n",
        "model.add(tf.keras.layers.Conv2D(32,\n",
        "                                kernel_size = (3,3),\n",
        "                                padding = \"same\",\n",
        "                                strides = (1,1),\n",
        "                                input_shape = (100,75,1)))\n",
        "model.add(tf.keras.layers.BatchNormalization())\n",
        "model.add(tf.keras.layers.Activation(\"relu\"))\n",
        "model.add(tf.keras.layers.MaxPooling2D(2,2))\n",
        "model.add(tf.keras.layers.Conv2D(64,\n",
        "                                kernel_size = (3,3),\n",
        "                                padding = \"same\",\n",
        "                                strides = (1,1),\n",
        "                                input_shape = (100,75,1)))\n",
        "model.add(tf.keras.layers.Activation(\"relu\"))\n",
        "model.add(tf.keras.layers.MaxPooling2D(2,2))"
      ]
    },
    {
      "cell_type": "code",
      "execution_count": null,
      "metadata": {
        "id": "EM9J4k9RndmR"
      },
      "outputs": [],
      "source": [
        "model.add(tf.keras.layers.Flatten())"
      ]
    },
    {
      "cell_type": "code",
      "execution_count": null,
      "metadata": {
        "id": "D4-F5ql5ndmS"
      },
      "outputs": [],
      "source": [
        "model.add(tf.keras.layers.Dense(128,activation = \"relu\"))\n",
        "model.add(tf.keras.layers.Dropout(0.7))"
      ]
    },
    {
      "cell_type": "code",
      "execution_count": null,
      "metadata": {
        "id": "WSGERWHpndmT"
      },
      "outputs": [],
      "source": [
        "model.add(tf.keras.layers.Dense(10,activation = \"softmax\"))"
      ]
    },
    {
      "cell_type": "code",
      "execution_count": null,
      "metadata": {
        "id": "eIxCv3a9ndmU"
      },
      "outputs": [],
      "source": [
        "model.compile(optimizer = \"adam\",\n",
        "            loss = \"sparse_categorical_crossentropy\",\n",
        "            metrics = [\"accuracy\"])"
      ]
    },
    {
      "cell_type": "code",
      "execution_count": null,
      "metadata": {
        "colab": {
          "base_uri": "https://localhost:8080/"
        },
        "id": "zzSwcApqndmU",
        "outputId": "70ca75ab-b386-4845-8d7b-9e888e44e2d9"
      },
      "outputs": [
        {
          "name": "stdout",
          "output_type": "stream",
          "text": [
            "Epoch 1/15\n",
            "103/103 [==============================] - 5s 42ms/step - loss: 2.2426 - accuracy: 0.2435 - val_loss: 2.2507 - val_accuracy: 0.2726\n",
            "Epoch 2/15\n",
            "103/103 [==============================] - 4s 38ms/step - loss: 1.6267 - accuracy: 0.4170 - val_loss: 1.9381 - val_accuracy: 0.4499\n",
            "Epoch 3/15\n",
            "103/103 [==============================] - 4s 37ms/step - loss: 1.3572 - accuracy: 0.5199 - val_loss: 1.5139 - val_accuracy: 0.6127\n",
            "Epoch 4/15\n",
            "103/103 [==============================] - 4s 38ms/step - loss: 1.2106 - accuracy: 0.5781 - val_loss: 1.0508 - val_accuracy: 0.7211\n",
            "Epoch 5/15\n",
            "103/103 [==============================] - 4s 39ms/step - loss: 1.0811 - accuracy: 0.6089 - val_loss: 1.6560 - val_accuracy: 0.3596\n",
            "Epoch 6/15\n",
            "103/103 [==============================] - 4s 38ms/step - loss: 0.9734 - accuracy: 0.6528 - val_loss: 0.6878 - val_accuracy: 0.8166\n",
            "Epoch 7/15\n",
            "103/103 [==============================] - 4s 38ms/step - loss: 0.8518 - accuracy: 0.6963 - val_loss: 0.5568 - val_accuracy: 0.8397\n",
            "Epoch 8/15\n",
            "103/103 [==============================] - 4s 38ms/step - loss: 0.7754 - accuracy: 0.7216 - val_loss: 0.6170 - val_accuracy: 0.7961\n",
            "Epoch 9/15\n",
            "103/103 [==============================] - 4s 38ms/step - loss: 0.7187 - accuracy: 0.7340 - val_loss: 0.4796 - val_accuracy: 0.8607\n",
            "Epoch 10/15\n",
            "103/103 [==============================] - 4s 38ms/step - loss: 0.6585 - accuracy: 0.7630 - val_loss: 0.9818 - val_accuracy: 0.7108\n",
            "Epoch 11/15\n",
            "103/103 [==============================] - 4s 41ms/step - loss: 0.6028 - accuracy: 0.7783 - val_loss: 0.4207 - val_accuracy: 0.8710\n",
            "Epoch 12/15\n",
            "103/103 [==============================] - 4s 37ms/step - loss: 0.5632 - accuracy: 0.7949 - val_loss: 0.4458 - val_accuracy: 0.8616\n",
            "Epoch 13/15\n",
            "103/103 [==============================] - 4s 37ms/step - loss: 0.5236 - accuracy: 0.8064 - val_loss: 0.2846 - val_accuracy: 0.9206\n",
            "Epoch 14/15\n",
            "103/103 [==============================] - 4s 37ms/step - loss: 0.5009 - accuracy: 0.8198 - val_loss: 0.2629 - val_accuracy: 0.9338\n",
            "Epoch 15/15\n",
            "103/103 [==============================] - 4s 37ms/step - loss: 0.4481 - accuracy: 0.8352 - val_loss: 0.2612 - val_accuracy: 0.9299\n"
          ]
        }
      ],
      "source": [
        "results = model.fit(x_train , y_train,\n",
        "                    batch_size=64,\n",
        "                    epochs = 15,\n",
        "                    validation_data=(x_val, y_val))"
      ]
    },
    {
      "cell_type": "code",
      "execution_count": null,
      "metadata": {
        "colab": {
          "base_uri": "https://localhost:8080/",
          "height": 279
        },
        "id": "ErrsW4WHndmW",
        "outputId": "33b2a85f-d6d2-46ca-df01-6109ad3b08dc"
      },
      "outputs": [
        {
          "data": {
            "image/png": "[encoded data removed]",
            "text/plain": [
              "<Figure size 432x288 with 1 Axes>"
            ]
          },
          "metadata": {
            "needs_background": "light"
          },
          "output_type": "display_data"
        }
      ],
      "source": [
        "plt.plot(results.history[\"loss\"], label = \"loss\")\n",
        "plt.plot(results.history[\"val_loss\"], label = \"val_loss\")\n",
        "plt.xlabel(\"Epochs\")\n",
        "plt.ylabel(\"Loss\")\n",
        "plt.legend()\n",
        "plt.show()"
      ]
    },
    {
      "cell_type": "code",
      "execution_count": null,
      "metadata": {
        "colab": {
          "base_uri": "https://localhost:8080/",
          "height": 279
        },
        "id": "-rV6I-ZLndmW",
        "outputId": "5dbc733e-e099-4fd8-ea88-b95c98e97439"
      },
      "outputs": [
        {
          "data": {
            "image/png": "[encoded data removed]",
            "text/plain": [
              "<Figure size 432x288 with 1 Axes>"
            ]
          },
          "metadata": {
            "needs_background": "light"
          },
          "output_type": "display_data"
        }
      ],
      "source": [
        "plt.plot(results.history[\"accuracy\"], label = \"accuracy\")\n",
        "plt.plot(results.history[\"val_accuracy\"], label = \"val_accuracy\")\n",
        "plt.xlabel(\"Epochs\")\n",
        "plt.ylabel(\"Accuracy\")\n",
        "plt.legend()\n",
        "plt.show()"
      ]
    },
    {
      "cell_type": "code",
      "execution_count": null,
      "metadata": {
        "colab": {
          "base_uri": "https://localhost:8080/"
        },
        "id": "y48cl4cyndmY",
        "outputId": "b3376eef-bfff-42e7-aa6b-ac0386b6f917"
      },
      "outputs": [
        {
          "name": "stdout",
          "output_type": "stream",
          "text": [
            "110/110 [==============================] - 1s 7ms/step - loss: 0.2330 - accuracy: 0.9405\n"
          ]
        },
        {
          "data": {
            "text/plain": [
              "[0.2329947054386139, 0.9404523372650146]"
            ]
          },
          "execution_count": 66,
          "metadata": {},
          "output_type": "execute_result"
        }
      ],
      "source": [
        "model.evaluate(x_test, y_test)"
      ]
    }
  ],
  "metadata": {
    "accelerator": "GPU",
    "colab": {
      "collapsed_sections": [],
      "provenance": []
    },
    "kernelspec": {
      "display_name": "Python 3.10.7 64-bit",
      "language": "python",
      "name": "python3"
    },
    "language_info": {
      "codemirror_mode": {
        "name": "ipython",
        "version": 3
      },
      "file_extension": ".py",
      "mimetype": "text/x-python",
      "name": "python",
      "nbconvert_exporter": "python",
      "pygments_lexer": "ipython3",
      "version": "3.10.7"
    },
    "vscode": {
      "interpreter": {
        "hash": "afb734500600fd355917ca529030176ea0ca205570884b88f2f6f7d791fd3fbe"
      }
    }
  },
  "nbformat": 4,
  "nbformat_minor": 0
}
